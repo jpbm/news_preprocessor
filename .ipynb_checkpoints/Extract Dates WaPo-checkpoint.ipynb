{
 "cells": [
  {
   "cell_type": "code",
   "execution_count": 1,
   "metadata": {},
   "outputs": [],
   "source": [
    "from src.util import data_from_many\n",
    "import os\n",
    "from json import loads\n",
    "import re\n",
    "import datetime\n",
    "\n",
    "publication = 'wapo'\n",
    "\n",
    "datafiles = ['/datapool/news_articles/raw_data/'+publication+'/' + fname \n",
    "             for fname in os.listdir('/datapool/news_articles/raw_data/'+publication+'/') if '.json' in fname]\n",
    "\n",
    "data = map(loads,data_from_many(datafiles))"
   ]
  },
  {
   "cell_type": "code",
   "execution_count": 2,
   "metadata": {},
   "outputs": [
    {
     "name": "stdout",
     "output_type": "stream",
     "text": [
      "58000\r"
     ]
    }
   ],
   "source": [
    "wapo_date = re.compile('\\d{4}/\\d{2}/\\d{2}')\n",
    "def get_wapo_date(url):\n",
    "    try:\n",
    "        match = wapo_date.search(url)\n",
    "        return datetime.datetime.strptime(match.group(), '%Y/%m/%d').date()\n",
    "    except:\n",
    "        return None\n",
    "    \n",
    "from collections import Counter\n",
    "wapo_dates = Counter()\n",
    "\n",
    "i = 0\n",
    "for item in data:\n",
    "    i+=1\n",
    "    date = get_wapo_date(item['url'])\n",
    "    if date:\n",
    "        wapo_dates.update([date.isoformat()])\n",
    "    if i % 1000 == 0:\n",
    "        print(i,end = '\\r')"
   ]
  },
  {
   "cell_type": "code",
   "execution_count": 6,
   "metadata": {},
   "outputs": [],
   "source": [
    "with open(publication+'_datelist.csv','w') as file:\n",
    "    for item in sorted(list(wapo_dates.items()),key = lambda x: -int(x[0].split('-')[0])):\n",
    "        file.write('%s, %i\\n' % item)"
   ]
  }
 ],
 "metadata": {
  "kernelspec": {
   "display_name": "Python 3",
   "language": "python",
   "name": "python3"
  },
  "language_info": {
   "codemirror_mode": {
    "name": "ipython",
    "version": 3
   },
   "file_extension": ".py",
   "mimetype": "text/x-python",
   "name": "python",
   "nbconvert_exporter": "python",
   "pygments_lexer": "ipython3",
   "version": "3.6.1"
  }
 },
 "nbformat": 4,
 "nbformat_minor": 2
}
