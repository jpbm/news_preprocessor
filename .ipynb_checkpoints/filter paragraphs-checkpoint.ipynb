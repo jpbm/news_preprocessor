{
 "cells": [
  {
   "cell_type": "code",
   "execution_count": 304,
   "metadata": {},
   "outputs": [],
   "source": [
    "import json\n",
    "import sys\n",
    "import re\n",
    "from bs4 import BeautifulSoup\n",
    "import os\n",
    "from src.util import count_lines_many, data_from_many, bunch_paragraphs, unpack\n",
    "import numpy as np\n",
    "\n",
    "FN = 'nydailynews'\n",
    "\n",
    "DATAPATH = '/datapool/news_articles/raw_data/'+FN+'/'\n",
    "MAX_PER_FILE = 1000\n",
    "\n",
    "datafiles = [DATAPATH + file for file in os.listdir(DATAPATH)]\n",
    "\n",
    "\"\"\"PREPROCESS AND PARAGRAPH EXTRACTION\"\"\"\n",
    "\n",
    "def preprocess(item):\n",
    "    url, html = unpack(item)\n",
    "    label = 'none'#get_label(url,html)\n",
    "    paragraphs = get_paragraphs(html)\n",
    "    return label, paragraphs\n",
    "\n",
    "\n",
    "def get_paragraphs(html):\n",
    "    soup = BeautifulSoup(html,'html.parser')\n",
    "    paragraphs = [\n",
    "            tag.get_text() for tag in soup.findAll('title')]+[\n",
    "                    item['content'] for item in soup.findAll('meta',property=True) if item['property'] == 'og:description']+[\n",
    "                            tag.get_text() for tag in soup.findAll('p')]\n",
    "    if len(paragraphs) != 0:\n",
    "        return paragraphs\n",
    "    else:\n",
    "        print(\"NOCONTENT\")\n",
    "        return 'NOCONTENT'\n",
    "    \n",
    "    \n",
    "data = map(preprocess,data_from_many(datafiles))"
   ]
  },
  {
   "cell_type": "code",
   "execution_count": 328,
   "metadata": {},
   "outputs": [],
   "source": [
    "def filter_paragraphs(FN,paragraphs):\n",
    "    filtered_paragraphs = []\n",
    "    \n",
    "    if FN == 'nytimes':\n",
    "        forbidden = 'New York Times,|,not a robot,Invalid email address,feedback on this page,Home Page,@nytimes.com,NYTimes.com,contributed reporting.,newsletter.,updates via Facebook'.split(',')\n",
    "    elif FN == 'wsj':\n",
    "        forbidden = 'WSJ,All Rights Reserved,The Wall Street Journal,summary.headline,contributed to this article,Photo: ,\\n and ,sign in'.split(',')\n",
    "    elif FN == 'wapo':\n",
    "        forbidden = 'The Washington Post,Show me more offers,related: ,[,],sign in.,sign up,check your inbox,signed up,you might also like, AM, PM,valid email address,This post has been updated,|'.split(',')\n",
    "    elif FN == 'nypost':\n",
    "        forbidden = '|,privacy policy.,other great newsletters,…,information services.,delivered to your inbox,received your submission.,\\t\\t\\t\\n'.split(',')\n",
    "    elif FN == 'nydailynews':\n",
    "        forbidden = 'Copyright ©,New York Daily News,on a mobile device?,Get our instant notifications as news happens,You can manage them anytime using browser settings,Sign up now to start receiving breaking news alerts on your desktop'.split(',')\n",
    "    \n",
    "    for paragraph in paragraphs:\n",
    "        res = True\n",
    "        \n",
    "        if len(paragraph.split(' ')) <= 4:\n",
    "            res = False\n",
    "        else:\n",
    "            pass\n",
    "        \n",
    "        for item in forbidden:\n",
    "            if item.lower() in paragraph.lower():\n",
    "                res = False\n",
    "            else:\n",
    "                pass\n",
    "                \n",
    "        if paragraph[:3] == 'By ':\n",
    "            res = False\n",
    "        else:\n",
    "            pass\n",
    "            \n",
    "        if paragraph[:7] == 'Follow ':\n",
    "            res = False\n",
    "        else:\n",
    "            pass\n",
    "        \n",
    "        if paragraph.isupper():\n",
    "            res = False\n",
    "        else:\n",
    "            pass\n",
    "        \n",
    "        if res:\n",
    "            filtered_paragraphs.append(paragraph)\n",
    "                \n",
    "    return filtered_paragraphs[1:]"
   ]
  },
  {
   "cell_type": "code",
   "execution_count": 356,
   "metadata": {},
   "outputs": [],
   "source": [
    "label, paragraphs = next(data)"
   ]
  },
  {
   "cell_type": "code",
   "execution_count": 357,
   "metadata": {
    "scrolled": false
   },
   "outputs": [
    {
     "data": {
      "text/plain": [
       "['Get our instant notifications as news happens',\n",
       " 'You can manage them anytime using browser settings',\n",
       " '\\r\\n                        Sign up now to start receiving breaking news alerts on your desktop.\\r\\n                    ']"
      ]
     },
     "execution_count": 357,
     "metadata": {},
     "output_type": "execute_result"
    }
   ],
   "source": [
    "filter_paragraphs('nydailynews',paragraphs)"
   ]
  },
  {
   "cell_type": "code",
   "execution_count": null,
   "metadata": {},
   "outputs": [],
   "source": []
  }
 ],
 "metadata": {
  "kernelspec": {
   "display_name": "Python 3",
   "language": "python",
   "name": "python3"
  },
  "language_info": {
   "codemirror_mode": {
    "name": "ipython",
    "version": 3
   },
   "file_extension": ".py",
   "mimetype": "text/x-python",
   "name": "python",
   "nbconvert_exporter": "python",
   "pygments_lexer": "ipython3",
   "version": "3.6.1"
  }
 },
 "nbformat": 4,
 "nbformat_minor": 2
}
