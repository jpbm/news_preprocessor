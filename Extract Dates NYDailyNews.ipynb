{
 "cells": [
  {
   "cell_type": "code",
   "execution_count": 27,
   "metadata": {},
   "outputs": [],
   "source": [
    "#from src.util import data_from_many\n",
    "import os\n",
    "from json import loads\n",
    "import re\n",
    "import datetime\n",
    "\n",
    "publication = 'nydailynews'\n",
    "\n",
    "datafiles = ['/datapool/news_articles/raw_data/'+publication+'/' + fname \n",
    "             for fname in os.listdir('/datapool/news_articles/raw_data/'+publication+'/') if '.json' in fname]\n",
    "\n",
    "data = map(loads,data_from_many(datafiles))"
   ]
  },
  {
   "cell_type": "code",
   "execution_count": 28,
   "metadata": {
    "scrolled": false
   },
   "outputs": [
    {
     "name": "stdout",
     "output_type": "stream",
     "text": [
      "38000\r"
     ]
    }
   ],
   "source": [
    "nydailynews_date = re.compile('(?<=content=\")\\d{4}-\\d{2}-\\d{2}')\n",
    "def get_nydailynews_date(html):\n",
    "    match = nydailynews_date.search(html)\n",
    "    if match:\n",
    "        return datetime.datetime.strptime(match.group(), '%Y-%m-%d').date()\n",
    "    else:\n",
    "        return None\n",
    "    \n",
    "from collections import Counter\n",
    "nydailynews_dates = Counter()\n",
    "\n",
    "i = 0\n",
    "for item in data:\n",
    "    i+=1\n",
    "    date = get_nydailynews_date(item['html'])\n",
    "    if date:\n",
    "        nydailynews_dates.update([date.isoformat()])\n",
    "    if i % 1000 == 0:\n",
    "        print(i,end = '\\r')"
   ]
  },
  {
   "cell_type": "code",
   "execution_count": 3,
   "metadata": {},
   "outputs": [],
   "source": [
    "with open(publication+'_datelist.csv','w') as file:\n",
    "    for item in sorted(list(nydailynews_dates.items()),key = lambda x: -int(x[0].split('-')[0])):\n",
    "        file.write('%s, %i\\n' % item)"
   ]
  },
  {
   "cell_type": "code",
   "execution_count": 26,
   "metadata": {},
   "outputs": [],
   "source": [
    "from itertools import chain\n",
    "\n",
    "def get_data(filename):\n",
    "    with open(filename,'r') as file:\n",
    "        for line in file:\n",
    "            yield line\n",
    "            \n",
    "def get_data_from_many(filenames):\n",
    "    gens = chain.from_iterable([get_data(filename) for filename in filenames])\n",
    "    for line in gens:\n",
    "        yield line\n",
    "    "
   ]
  }
 ],
 "metadata": {
  "kernelspec": {
   "display_name": "Python 3",
   "language": "python",
   "name": "python3"
  },
  "language_info": {
   "codemirror_mode": {
    "name": "ipython",
    "version": 3
   },
   "file_extension": ".py",
   "mimetype": "text/x-python",
   "name": "python",
   "nbconvert_exporter": "python",
   "pygments_lexer": "ipython3",
   "version": "3.6.1"
  }
 },
 "nbformat": 4,
 "nbformat_minor": 2
}
