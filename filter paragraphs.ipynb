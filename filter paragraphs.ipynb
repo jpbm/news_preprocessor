{
 "cells": [
  {
   "cell_type": "code",
   "execution_count": 304,
   "metadata": {},
   "outputs": [],
   "source": [
    "import json\n",
    "import sys\n",
    "import re\n",
    "from bs4 import BeautifulSoup\n",
    "import os\n",
    "from src.util import count_lines_many, data_from_many, bunch_paragraphs, unpack\n",
    "import numpy as np\n",
    "\n",
    "FN = 'nydailynews'\n",
    "\n",
    "DATAPATH = '/datapool/news_articles/raw_data/'+FN+'/'\n",
    "MAX_PER_FILE = 1000\n",
    "\n",
    "datafiles = [DATAPATH + file for file in os.listdir(DATAPATH)]\n",
    "\n",
    "\"\"\"PREPROCESS AND PARAGRAPH EXTRACTION\"\"\"\n",
    "\n",
    "def preprocess(item):\n",
    "    url, html = unpack(item)\n",
    "    label = 'none'#get_label(url,html)\n",
    "    paragraphs = get_paragraphs(html)\n",
    "    return label, paragraphs\n",
    "\n",
    "\n",
    "def get_paragraphs(html):\n",
    "    soup = BeautifulSoup(html,'html.parser')\n",
    "    paragraphs = [\n",
    "            tag.get_text() for tag in soup.findAll('title')]+[\n",
    "                    item['content'] for item in soup.findAll('meta',property=True) if item['property'] == 'og:description']+[\n",
    "                            tag.get_text() for tag in soup.findAll('p')]\n",
    "    if len(paragraphs) != 0:\n",
    "        return paragraphs\n",
    "    else:\n",
    "        print(\"NOCONTENT\")\n",
    "        return 'NOCONTENT'\n",
    "    \n",
    "    \n",
    "data = map(preprocess,data_from_many(datafiles))"
   ]
  },
  {
   "cell_type": "code",
   "execution_count": 361,
   "metadata": {},
   "outputs": [],
   "source": [
    "def filter_paragraphs(FN,paragraphs):\n",
    "    filtered_paragraphs = []\n",
    "    \n",
    "    if FN == 'nytimes':\n",
    "        forbidden = 'New York Times,|,not a robot,Invalid email address,feedback on this page,Home Page,@nytimes.com,NYTimes.com,contributed reporting.,newsletter.,updates via Facebook'.split(',')\n",
    "    elif FN == 'wsj':\n",
    "        forbidden = 'WSJ,All Rights Reserved,The Wall Street Journal,summary.headline,contributed to this article,Photo: ,\\n and ,sign in'.split(',')\n",
    "    elif FN == 'wapo':\n",
    "        forbidden = 'The Washington Post,Show me more offers,related: ,[,],sign in.,sign up,check your inbox,signed up,you might also like, AM, PM,valid email address,This post has been updated,|'.split(',')\n",
    "    elif FN == 'nypost':\n",
    "        forbidden = '|,privacy policy.,other great newsletters,…,information services.,delivered to your inbox,received your submission.,\\t\\t\\t\\n'.split(',')\n",
    "    elif FN == 'nydailynews':\n",
    "        forbidden = 'Copyright ©,New York Daily News,on a mobile device?,Get our instant notifications as news happens,You can manage them anytime using browser settings,Sign up now to start receiving breaking news alerts on your desktop'.split(',')\n",
    "    \n",
    "    for paragraph in paragraphs:\n",
    "        res = True\n",
    "        \n",
    "        if len(paragraph.split(' ')) <= 4:\n",
    "            res = False\n",
    "        else:\n",
    "            pass\n",
    "        \n",
    "        for item in forbidden:\n",
    "            if item.lower() in paragraph.lower():\n",
    "                res = False\n",
    "            else:\n",
    "                pass\n",
    "                \n",
    "        if paragraph[:3] == 'By ':\n",
    "            res = False\n",
    "        else:\n",
    "            pass\n",
    "            \n",
    "        if paragraph[:7] == 'Follow ':\n",
    "            res = False\n",
    "        else:\n",
    "            pass\n",
    "        \n",
    "        if paragraph.isupper():\n",
    "            res = False\n",
    "        else:\n",
    "            pass\n",
    "        \n",
    "        if res:\n",
    "            filtered_paragraphs.append(paragraph)\n",
    "                \n",
    "    return filtered_paragraphs[1:]"
   ]
  },
  {
   "cell_type": "code",
   "execution_count": 362,
   "metadata": {},
   "outputs": [],
   "source": [
    "label, paragraphs = next(data)"
   ]
  },
  {
   "cell_type": "code",
   "execution_count": 363,
   "metadata": {
    "scrolled": false
   },
   "outputs": [
    {
     "data": {
      "text/plain": [
       "['Raise your glasses, ladies and gentlemen of New York, and toast the jury that convicted Sheldon Silver of corruption after...',\n",
       " \"Raise your glasses, ladies and gentlemen of New York, and toast the jury that convicted Sheldon Silver of corruption after stunningly brief deliberations. The label of felon is affixed to the once-mighty man in a citizens' exercise of truth-telling that is sweet and joyous and, in its limitations, sorrowful.\",\n",
       " \"The jury's verdict against the former Assembly speaker rid New York's political culture of its most virulent and resistant bacterium. For, until his indictment, Silver had long been a pathogen who infected governing with anti-democratic abuses.\",\n",
       " 'There is satisfaction in knowing that the big, fake tough guy will likely live behind bars for a substantial portion of the time he has left before senescence and frailty set in.',\n",
       " 'Silver deserves every second of the powerlessness that is a torment of imprisonment, along with the pain of searing regrets — if, that is, he is capable of coming to terms with the arrogance that brought him ruination.',\n",
       " 'U.S. Attorney Preet Bharara, his assistants and the FBI did a high service in revealing which species of crimes Silver was committing — at a time when everyone in Albany knew to a moral certainty that the speaker was betraying the public trust and rigging the game to hide his predations.',\n",
       " \"Still, justice is incomplete. There is sadness in that the letters of the law prohibit naming virtually the entire Assembly Democratic caucus as co-conspirators to Silver's corruption.\",\n",
       " 'They enabled him by vesting Silver with their proxies to do essentially whatever he wanted when the Legislature was in session. \"Nothing happens without me,\" he once told this Editorial Board, stating only the obvious.',\n",
       " \"Assembly members didn't have to work. They didn't have to think. They only had to do as they were told in the name of their caucus, including faithfully voting on bills they had never read. Under Silver's leadership, the Legislature was rated America's worst.\",\n",
       " \"His trial contained few new revelations, because Bharara had spelled out the case in detail in the criminal complaint in January. Now, look back and remember how Silver's Democratic colleagues struggled to keep him as leader after reading the document.\",\n",
       " 'Even after Bharara persuasively declared in the complaint that the charges \"go to the very core of what ails Albany,\" including a \"lack of transparency, lack of accountability and lack of principle, joined with an overabundance of greed, cronyism and self-dealing,\" it took a public outcry to force Silver\\'s ouster after almost a week.',\n",
       " 'Manhattan underboss Assemblyman Richard Gottfried, who has spent four conscience-withering decades in the Assembly, went so far as to describe Silver as a hero. Consigliere Assemblywoman Deborah Glick proclaimed that Silver has been \"upholding Democratic principles in this state.\"',\n",
       " 'Better for them, Silver rewarded members who knelt to him with money for their districts. That became the yardstick for success, not the drafting or passage of important legislation. As long as they got their funds, they were happy to have Silver as dictator.',\n",
       " 'Even as he protected sex-harasser Vito Lopez and covered up ethics investigations.',\n",
       " 'Even as he created a pot of secret funding for clandestine disbursement, money that was used in his bribery plot.',\n",
       " 'Even as he rigged creation of a state ethics commission to prevent the panel from examining his personal dealings.',\n",
       " 'Even as he refused to explain why a law firm was paying him hundreds of thousands of dollars a year — money that turned out to be part of his bribery plot.',\n",
       " 'Because Silver knew better than to directly extort money, he separated his actions and his payoffs and then offered the wildly unsuccessful defense that he had simply engaged in politics the New York way and so had committed no crimes.',\n",
       " \"Yes, indeed, Silver had done business the New York way. Yes, indeed, he had exploited a system he created, a system blessed and defended by Gottfried and Glick, and by Silver's successor as speaker, Carl Heastie, and by every other pliant member of the Assembly.\",\n",
       " 'They enabled him. They aided and abetted him. And, they, too, are guilty.']"
      ]
     },
     "execution_count": 363,
     "metadata": {},
     "output_type": "execute_result"
    }
   ],
   "source": [
    "filter_paragraphs('nydailynews',paragraphs)"
   ]
  },
  {
   "cell_type": "code",
   "execution_count": null,
   "metadata": {},
   "outputs": [],
   "source": []
  }
 ],
 "metadata": {
  "kernelspec": {
   "display_name": "Python 3",
   "language": "python",
   "name": "python3"
  },
  "language_info": {
   "codemirror_mode": {
    "name": "ipython",
    "version": 3
   },
   "file_extension": ".py",
   "mimetype": "text/x-python",
   "name": "python",
   "nbconvert_exporter": "python",
   "pygments_lexer": "ipython3",
   "version": "3.6.1"
  }
 },
 "nbformat": 4,
 "nbformat_minor": 2
}
