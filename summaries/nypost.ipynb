{
 "cells": [
  {
   "cell_type": "code",
   "execution_count": 1,
   "metadata": {},
   "outputs": [
    {
     "name": "stdout",
     "output_type": "stream",
     "text": [
      "Number of entries: 756565\n"
     ]
    }
   ],
   "source": [
    "import sys\n",
    "import os\n",
    "from time import time\n",
    "\n",
    "DATAPATH = '/Users/balthasar/Google Drive/MTL_data/nypost/'\n",
    "sys.path.append(DATAPATH)\n",
    "sys.path.append('../')\n",
    "\n",
    "from src.util import count_lines_many, data_from_many, unpack, bunch_paragraphs\n",
    "\n",
    "datafiles = [DATAPATH + file for file in os.listdir(DATAPATH)]\n",
    "print(\"Number of entries: %i\" % (count_lines_many(datafiles)))"
   ]
  },
  {
   "cell_type": "code",
   "execution_count": 12,
   "metadata": {},
   "outputs": [],
   "source": [
    "data = data_from_many(datafiles)\n",
    "url, html = unpack(next(data))"
   ]
  },
  {
   "cell_type": "code",
   "execution_count": 13,
   "metadata": {},
   "outputs": [
    {
     "data": {
      "text/plain": [
       "['‘SMOOTH’ IN GROOVE',\n",
       " 'IT WAS oye como yeah! for Carlos Santana and his namesake band at last night&#8217;s Grammys, where the Latino guitar master gathered eight of the 10 categories for which he was nominated, including the triple crown of Best Album, Best Song and Best Record. Before last night, Mr. S. &#8212; who had won only one...']"
      ]
     },
     "execution_count": 13,
     "metadata": {},
     "output_type": "execute_result"
    }
   ],
   "source": [
    "\n",
    "\n",
    "import re \n",
    "from bs4 import BeautifulSoup\n",
    "\n",
    "def get_paragraphs(html):\n",
    "    soup = BeautifulSoup(html,'html.parser')\n",
    "    paragraphs = [tag.get_text() for tag in [soup.findAll('title')[0]]+soup.findAll('description')[1:]+soup.findAll(type='html')]\n",
    "    if len(paragraphs) != 0:\n",
    "        return paragraphs\n",
    "    else:\n",
    "        return 'NOCONTENT'\n",
    "\n",
    "label_re = re.compile('(?<=https://www.nytimes.com/[12][0-9][0-9][0-9]/[0-1][0-9]/[0-3][0-9]/).*')\n",
    "def get_label(url):\n",
    "    label = label_re.search(url)\n",
    "    if label:\n",
    "        return '/'.join(label.group().split('/')[:-1])\n",
    "    else:\n",
    "        return \"NOLABEL\"\n",
    "    \n",
    "get_paragraphs(html)"
   ]
  },
  {
   "cell_type": "code",
   "execution_count": 11,
   "metadata": {},
   "outputs": [
    {
     "name": "stdout",
     "output_type": "stream",
     "text": [
      "https://nypost.com/2011/06/27/blagojevich-guilty-on-17-counts/feed/\n"
     ]
    },
    {
     "data": {
      "text/plain": [
       "<?xml version=\"1.0\" encoding=\"UTF-8\"?>\n",
       "<rss version=\"2.0\" xmlns:atom=\"http://www.w3.org/2005/Atom\" xmlns:content=\"http://purl.org/rss/1.0/modules/content/\" xmlns:dc=\"http://purl.org/dc/elements/1.1/\" xmlns:geo=\"http://www.w3.org/2003/01/geo/wgs84_pos#\" xmlns:georss=\"http://www.georss.org/georss\" xmlns:media=\"http://search.yahoo.com/mrss/\" xmlns:slash=\"http://purl.org/rss/1.0/modules/slash/\" xmlns:sy=\"http://purl.org/rss/1.0/modules/syndication/\">\n",
       "<channel>\n",
       "<title>Blagojevich guilty on 17 counts</title>\n",
       "<atom:link href=\"https://nypost.com/2011/06/27/blagojevich-guilty-on-17-counts/feed/\" rel=\"self\" type=\"application/rss+xml\"></atom:link>\n",
       "<link/>https://nypost.com\n",
       "\t<description>Your source for breaking news, news about New York, sports, business, entertainment, opinion, real estate, culture, fashion, and more.</description>\n",
       "<lastbuilddate>Thu, 26 Apr 2018 09:00:06 +0000</lastbuilddate>\n",
       "<language>en</language>\n",
       "<sy:updateperiod>hourly</sy:updateperiod>\n",
       "<sy:updatefrequency>1</sy:updatefrequency>\n",
       "<generator>http://wordpress.com/</generator>\n",
       "<cloud domain=\"nypost.com\" path=\"/?rsscloud=notify\" port=\"80\" protocol=\"http-post\" registerprocedure=\"\"></cloud>\n",
       "<image>\n",
       "<url>https://secure.gravatar.com/blavatar/0b14d9dbf0c711522a906102b60f3da0?s=96&amp;d=https%3A%2F%2Fs0.wp.com%2Fi%2Fbuttonw-com.png</url>\n",
       "<title>Blagojevich guilty on 17 counts</title>\n",
       "<link/>https://nypost.com\n",
       "\t</image>\n",
       "<atom:link href=\"https://nypost.com/osd.xml\" rel=\"search\" title=\"New York Post\" type=\"application/opensearchdescription+xml\"></atom:link>\n",
       "<atom:link href=\"https://nypost.com/?pushpress=hub\" rel=\"hub\"></atom:link>\n",
       "<item>\n",
       "<title>Blagojevich guilty on 17 counts</title>\n",
       "<comments>https://nypost.com/2011/06/27/blagojevich-guilty-on-17-counts/#respond</comments>\n",
       "<pubdate>Mon, 27 Jun 2011 15:35:58 -0400</pubdate>\n",
       "<link/>https://nypost.com/2011/06/27/blagojevich-guilty-on-17-counts/\n",
       "\t\t\t\t<dc:creator>Post Staff Report</dc:creator>\n",
       "<guid ispermalink=\"false\">http://staging.nypost.alley.ws/article/blagojevich-guilty-on-17-counts/</guid>\n",
       "<description><![CDATA[CHICAGO — Rod Blagojevich, who rode his talkative everyman image to two terms as Illinois governor before scandal made him a national punch line, was convicted Monday of a wide range of corruption charges, including the incendiary allegation that he tried to sell or trade President Barack Obama’s Senate seat. The verdict was a bitter...]]></description>\n",
       "<content:encoded><![CDATA[CHICAGO — Rod Blagojevich, who rode his talkative everyman image to two terms as Illinois governor before scandal made him a national punch line, was convicted Monday of a wide range of corruption charges, including the incendiary allegation that he tried to sell or trade President Barack Obama’s Senate seat. The verdict was a bitter...]]></content:encoded>\n",
       "<enclosure type=\"image/jpeg\" url=\"http://thenypost.files.wordpress.com/2013/08/117526292152507-300x300.jpg?quality=90&amp;strip=all\"></enclosure>\n",
       "<slash:comments>0</slash:comments>\n",
       "<media:thumbnail url=\"https://thenypost.files.wordpress.com/2013/08/117526292152507-300x300.jpg?quality=90&amp;strip=all\"></media:thumbnail>\n",
       "<media:content medium=\"image\" url=\"http://thenypost.files.wordpress.com/2013/08/117526292152507-300x300.jpg?quality=90&amp;strip=all\">\n",
       "<media:title type=\"html\">117526292152507--300x300.jpg</media:title>\n",
       "</media:content>\n",
       "</item>\n",
       "</channel>\n",
       "</rss>"
      ]
     },
     "execution_count": 11,
     "metadata": {},
     "output_type": "execute_result"
    }
   ],
   "source": [
    "print(url)\n",
    "BeautifulSoup(html,'html.parser')"
   ]
  },
  {
   "cell_type": "code",
   "execution_count": 5,
   "metadata": {},
   "outputs": [
    {
     "data": {
      "text/plain": [
       "'BEAR202037--525x450.jpg'"
      ]
     },
     "execution_count": 5,
     "metadata": {},
     "output_type": "execute_result"
    }
   ],
   "source": [
    "BeautifulSoup(html,'html.parser').findAll(type=\"html\")[0].get_text()"
   ]
  },
  {
   "cell_type": "code",
   "execution_count": null,
   "metadata": {},
   "outputs": [],
   "source": []
  }
 ],
 "metadata": {
  "kernelspec": {
   "display_name": "Python 3",
   "language": "python",
   "name": "python3"
  },
  "language_info": {
   "codemirror_mode": {
    "name": "ipython",
    "version": 3
   },
   "file_extension": ".py",
   "mimetype": "text/x-python",
   "name": "python",
   "nbconvert_exporter": "python",
   "pygments_lexer": "ipython3",
   "version": "3.6.5"
  }
 },
 "nbformat": 4,
 "nbformat_minor": 2
}
