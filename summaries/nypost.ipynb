{
 "cells": [
  {
   "cell_type": "code",
   "execution_count": 1,
   "metadata": {},
   "outputs": [
    {
     "name": "stdout",
     "output_type": "stream",
     "text": [
      "Number of entries: 759739\n"
     ]
    }
   ],
   "source": [
    "import sys\n",
    "import os\n",
    "from time import time\n",
    "\n",
    "DATAPATH = '/Users/balthasar/Google Drive/MTL_data/nypost/'\n",
    "sys.path.append(DATAPATH)\n",
    "sys.path.append('../')\n",
    "\n",
    "from src.util import count_lines_many, data_from_many, unpack, bunch_paragraphs\n",
    "\n",
    "datafiles = [DATAPATH + file for file in os.listdir(DATAPATH)]\n",
    "print(\"Number of entries: %i\" % (count_lines_many(datafiles)))"
   ]
  },
  {
   "cell_type": "code",
   "execution_count": 61,
   "metadata": {},
   "outputs": [],
   "source": [
    "data = data_from_many(datafiles)\n",
    "url, html = unpack(next(data))"
   ]
  },
  {
   "cell_type": "code",
   "execution_count": 62,
   "metadata": {},
   "outputs": [
    {
     "data": {
      "text/plain": [
       "['BROOKLYN GIRL, 16, SLAIN AT HOME',\n",
       " 'A 16-year-old Brooklyn girl was stabbed to death in her Brooklyn apartment today and police want to question her female cousin, who law-enforcement sources said had recently moved in with the family. Shannon Braithewaite was slumped near the front door of the third-floor apartment on Empire Boulevard in Crown Heights when her mom, Marva, came...']"
      ]
     },
     "execution_count": 62,
     "metadata": {},
     "output_type": "execute_result"
    }
   ],
   "source": [
    "\n",
    "\n",
    "import re \n",
    "from bs4 import BeautifulSoup\n",
    "\n",
    "def get_paragraphs(html):\n",
    "    soup = BeautifulSoup(html,'html.parser')\n",
    "    paragraphs = [tag.get_text() for tag in [soup.findAll('title')[0]]+soup.findAll('description')[1:]+soup.findAll(type='html')]\n",
    "    if len(paragraphs) != 0:\n",
    "        return paragraphs\n",
    "    else:\n",
    "        return 'NOCONTENT'\n",
    "\n",
    "label_re = re.compile('(?<=https://www.nytimes.com/[12][0-9][0-9][0-9]/[0-1][0-9]/[0-3][0-9]/).*')\n",
    "def get_label(url):\n",
    "    label = label_re.search(url)\n",
    "    if label:\n",
    "        return '/'.join(label.group().split('/')[:-1])\n",
    "    else:\n",
    "        return \"NOLABEL\"\n",
    "    \n",
    "get_paragraphs(html)"
   ]
  },
  {
   "cell_type": "code",
   "execution_count": 64,
   "metadata": {},
   "outputs": [
    {
     "data": {
      "text/plain": [
       "<?xml version=\"1.0\" encoding=\"UTF-8\"?>\n",
       "<rss version=\"2.0\" xmlns:atom=\"http://www.w3.org/2005/Atom\" xmlns:content=\"http://purl.org/rss/1.0/modules/content/\" xmlns:dc=\"http://purl.org/dc/elements/1.1/\" xmlns:geo=\"http://www.w3.org/2003/01/geo/wgs84_pos#\" xmlns:georss=\"http://www.georss.org/georss\" xmlns:media=\"http://search.yahoo.com/mrss/\" xmlns:slash=\"http://purl.org/rss/1.0/modules/slash/\" xmlns:sy=\"http://purl.org/rss/1.0/modules/syndication/\">\n",
       "<channel>\n",
       "<title>BROOKLYN GIRL, 16, SLAIN AT HOME</title>\n",
       "<atom:link href=\"https://nypost.com/2008/10/01/brooklyn-girl-16-slain-at-home/feed/\" rel=\"self\" type=\"application/rss+xml\"></atom:link>\n",
       "<link/>https://nypost.com\n",
       "\t<description>Your source for breaking news, news about New York, sports, business, entertainment, opinion, real estate, culture, fashion, and more.</description>\n",
       "<lastbuilddate>Thu, 26 Apr 2018 06:22:14 +0000</lastbuilddate>\n",
       "<language>en</language>\n",
       "<sy:updateperiod>hourly</sy:updateperiod>\n",
       "<sy:updatefrequency>1</sy:updatefrequency>\n",
       "<generator>http://wordpress.com/</generator>\n",
       "<cloud domain=\"nypost.com\" path=\"/?rsscloud=notify\" port=\"80\" protocol=\"http-post\" registerprocedure=\"\"></cloud>\n",
       "<image>\n",
       "<url>https://secure.gravatar.com/blavatar/0b14d9dbf0c711522a906102b60f3da0?s=96&amp;d=https%3A%2F%2Fs0.wp.com%2Fi%2Fbuttonw-com.png</url>\n",
       "<title>BROOKLYN GIRL, 16, SLAIN AT HOME</title>\n",
       "<link/>https://nypost.com\n",
       "\t</image>\n",
       "<atom:link href=\"https://nypost.com/osd.xml\" rel=\"search\" title=\"New York Post\" type=\"application/opensearchdescription+xml\"></atom:link>\n",
       "<atom:link href=\"https://nypost.com/?pushpress=hub\" rel=\"hub\"></atom:link>\n",
       "<item>\n",
       "<title>BROOKLYN GIRL, 16, SLAIN AT HOME</title>\n",
       "<comments>https://nypost.com/2008/10/01/brooklyn-girl-16-slain-at-home/#respond</comments>\n",
       "<pubdate>Wed, 01 Oct 2008 03:37:13 -0400</pubdate>\n",
       "<link/>https://nypost.com/2008/10/01/brooklyn-girl-16-slain-at-home/\n",
       "\t\t\t\t<dc:creator>Erin Calabrese</dc:creator>\n",
       "<guid ispermalink=\"false\">http://staging.nypost.alley.ws/index.php/article/brooklyn-girl-16-slain-at-home/</guid>\n",
       "<description><![CDATA[A 16-year-old Brooklyn girl was stabbed to death in her Brooklyn apartment today and police want to question her female cousin, who law-enforcement sources said had recently moved in with the family. Shannon Braithewaite was slumped near the front door of the third-floor apartment on Empire Boulevard in Crown Heights when her mom, Marva, came...]]></description>\n",
       "<content:encoded><![CDATA[A 16-year-old Brooklyn girl was stabbed to death in her Brooklyn apartment today and police want to question her female cousin, who law-enforcement sources said had recently moved in with the family. Shannon Braithewaite was slumped near the front door of the third-floor apartment on Empire Boulevard in Crown Heights when her mom, Marva, came...]]></content:encoded>\n",
       "<slash:comments>0</slash:comments>\n",
       "</item>\n",
       "</channel>\n",
       "</rss>"
      ]
     },
     "execution_count": 64,
     "metadata": {},
     "output_type": "execute_result"
    }
   ],
   "source": [
    "# print(url)\n",
    "BeautifulSoup(html,'html.parser')"
   ]
  },
  {
   "cell_type": "code",
   "execution_count": 41,
   "metadata": {},
   "outputs": [
    {
     "data": {
      "text/plain": [
       "'A combination photo shows then U.S. Senator John F. Kennedy shaking hands with workers in Medford Square in 1958 and a bicyclist riding around the same spot in 2013'"
      ]
     },
     "execution_count": 41,
     "metadata": {},
     "output_type": "execute_result"
    }
   ],
   "source": [
    "BeautifulSoup(html,'html.parser').findAll(type=\"html\")[0].get_text()"
   ]
  },
  {
   "cell_type": "code",
   "execution_count": null,
   "metadata": {},
   "outputs": [],
   "source": []
  }
 ],
 "metadata": {
  "kernelspec": {
   "display_name": "Python 3",
   "language": "python",
   "name": "python3"
  },
  "language_info": {
   "codemirror_mode": {
    "name": "ipython",
    "version": 3
   },
   "file_extension": ".py",
   "mimetype": "text/x-python",
   "name": "python",
   "nbconvert_exporter": "python",
   "pygments_lexer": "ipython3",
   "version": "3.6.5"
  }
 },
 "nbformat": 4,
 "nbformat_minor": 2
}
