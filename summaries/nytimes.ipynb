{
 "cells": [
  {
   "cell_type": "code",
   "execution_count": 1,
   "metadata": {},
   "outputs": [
    {
     "name": "stdout",
     "output_type": "stream",
     "text": [
      "Number of entries: 145495\n"
     ]
    }
   ],
   "source": [
    "import sys\n",
    "import os\n",
    "from time import time\n",
    "\n",
    "DATAPATH = '/Users/balthasar/Google Drive/MTL_data/nytimes/'\n",
    "sys.path.append(DATAPATH)\n",
    "sys.path.append('../')\n",
    "\n",
    "from src.util import count_lines_many, data_from_many\n",
    "\n",
    "datafiles = [DATAPATH + file for file in os.listdir(DATAPATH)]\n",
    "print(\"Number of entries: %i\" % (count_lines_many(datafiles)))"
   ]
  },
  {
   "cell_type": "code",
   "execution_count": 9,
   "metadata": {},
   "outputs": [],
   "source": [
    "# Label & Text Extraction\n",
    "\n",
    "from bs4 import BeautifulSoup\n",
    "import json\n",
    "import re\n",
    "\n",
    "# NYT Specific\n",
    "def get_paragraphs(html):\n",
    "    soup = BeautifulSoup(html,'html.parser')\n",
    "    paragraphs = [tag.get_text() for tag in soup.findAll('title')+soup.findAll('p','story-body-text story-content')]\n",
    "    if len(paragraphs) != 0:\n",
    "        return paragraphs\n",
    "    else:\n",
    "        return 'NOCONTENT'\n",
    "\n",
    "label_re = re.compile('(?<=https://www.nytimes.com/[12][0-9][0-9][0-9]/[0-1][0-9]/[0-3][0-9]/).*')\n",
    "def get_label(url):\n",
    "    label = label_re.search(url)\n",
    "    if label:\n",
    "        return '/'.join(label.group().split('/')[:-1])\n",
    "    else:\n",
    "        return \"NOLABEL\"\n",
    "\n",
    "# General   \n",
    "def unpack(item):\n",
    "    return tuple(json.loads(item).values())\n",
    "\n",
    "def words(x):\n",
    "    return len(x.split(' '))\n",
    "\n",
    "def bunch_paragraphs(paragraphs,target_length=300):\n",
    "    \"\"\"bunches paragraphs into lenghts as close as possible to the target length. not global optimum.\"\"\"\n",
    "    res = []\n",
    "    current = paragraphs.pop(0)\n",
    "    while len(paragraphs) > 0:\n",
    "        next_ = paragraphs.pop(0)\n",
    "        \n",
    "        len_current = words(current)\n",
    "        len_next_ = words(next_)\n",
    "        if (len_current+len_next_-target_length)**2 <= (len_current-target_length)**2:\n",
    "            current += ' '+next_\n",
    "        else:\n",
    "            res += [current]\n",
    "            current = next_\n",
    "    res += [current]\n",
    "    return res\n",
    "\n",
    "def preprocess(item):\n",
    "    url, html = unpack(item)\n",
    "    label = get_label(url)\n",
    "    paragraphs = get_paragraphs(html)\n",
    "    return label, paragraphs"
   ]
  },
  {
   "cell_type": "code",
   "execution_count": 3,
   "metadata": {
    "scrolled": true
   },
   "outputs": [
    {
     "name": "stdout",
     "output_type": "stream",
     "text": [
      "[96231/145491] Word Count: 81108411 Paragraph Count: 1844644 Top-10 classes: [('world', 18555), ('sports', 14377), ('us', 13773), ('business', 8776), ('nyregion', 5306), ('books', 4786), ('arts', 4671), ('opinion', 4558), ('technology', 2374), ('science', 2288)]\r"
     ]
    }
   ],
   "source": [
    "# Class count -- count only entries that have easily identifiable content and label\n",
    "from collections import Counter\n",
    "from multiprocessing import Pool\n",
    "\n",
    "classes = Counter()\n",
    "subclasses = Counter()\n",
    "\n",
    "i,j = (0,0)\n",
    "word_count = 0\n",
    "paragraph_count = 0\n",
    "\n",
    "def analyze_item_one(item):\n",
    "    global i,j,word_count,paragraph_count,classes,subclasses\n",
    "    i+=1\n",
    "    label,paragraphs = item\n",
    "    if label != 'NOLABEL' and paragraphs != 'NOCONTENT':\n",
    "        j+=1\n",
    "        class_ = label.split('/')[0]\n",
    "        subclass_ = label\n",
    "        \n",
    "        paragraph_count += len(paragraphs)\n",
    "        for paragraph in paragraphs:\n",
    "            word_count += len(paragraph.split(' '))\n",
    "\n",
    "        classes.update([class_])\n",
    "        subclasses.update([subclass_])\n",
    "        \n",
    "        print(\"[%i/%i] Word Count: %i Paragraph Count: %i Top-10 classes: %s\" % (j,i,word_count,paragraph_count,str(classes.most_common(10))),end='\\r')\n",
    "\n",
    "def analyze_item_many(data):\n",
    "    list(map(analyze_item_one,data))\n",
    "\n",
    "data = map(preprocess,data_from_many(datafiles))\n",
    "analyze_item_many(data)        \n",
    "with open('../summaries/nytimes.txt','w') as file:\n",
    "    file.write('NYTIMES\\n')\n",
    "    file.write(50*\"#\")\n",
    "    file.write('\\nWORD COUNT: %i\\n' % word_count)\n",
    "    file.write('PARAGRAPH COUNT: %i\\n' % paragraph_count)\n",
    "    file.write('CLASSES: \\n')\n",
    "    for item in list(classes.items()):\n",
    "        file.write('%s\\t%i\\n' % item)\n",
    "    file.write('\\n\\n')\n",
    "    file.write('SUBCLASSES: \\n')\n",
    "    for item in list(subclasses.items()):\n",
    "        file.write('%s\\t%i\\n' % item)\n",
    "    file.write('\\n\\n')"
   ]
  },
  {
   "cell_type": "code",
   "execution_count": 16,
   "metadata": {},
   "outputs": [
    {
     "name": "stdout",
     "output_type": "stream",
     "text": [
      "[1844644] [(39, 32233), (40, 32204), (36, 32087), (38, 32016), (41, 31801), (37, 31579), (42, 31510), (43, 31425), (35, 31414), (34, 31265)]\r"
     ]
    }
   ],
   "source": [
    "# get paragraph stats\n",
    "word_counts = Counter()\n",
    "\n",
    "data = map(preprocess,data_from_many(datafiles))\n",
    "i = 0\n",
    "for label, paragraphs in data:\n",
    "    if label != 'NOLABEL' and paragraphs != 'NOCONTENT':\n",
    "        for paragraph in paragraphs:\n",
    "            word_counts.update([len(paragraph.split(' '))])\n",
    "            i += 1\n",
    "        print(\"[%i] %s\" % (i,word_counts.most_common(10)),end='\\r')"
   ]
  },
  {
   "cell_type": "code",
   "execution_count": 17,
   "metadata": {},
   "outputs": [],
   "source": [
    "with open('../summaries/nytimes_paragraph_stats.txt','w') as file:\n",
    "    for item in list(word_counts.items()):\n",
    "        file.write('%s\\t%i\\n' % item)"
   ]
  },
  {
   "cell_type": "code",
   "execution_count": null,
   "metadata": {},
   "outputs": [
    {
     "name": "stdout",
     "output_type": "stream",
     "text": [
      "[196207] [(297, 3143), (300, 3116), (301, 3099), (303, 3087), (304, 3073), (302, 3055), (294, 3033), (299, 3028), (298, 3015), (296, 2946), (293, 2937), (305, 2920), (295, 2877), (306, 2876), (307, 2823), (308, 2800), (292, 2765), (309, 2704), (310, 2688), (291, 2660), (290, 2655), (289, 2635), (311, 2598), (312, 2554), (288, 2523), (287, 2454), (286, 2369), (15, 2358), (313, 2340), (314, 2324), (285, 2306), (14, 2268), (315, 2265), (316, 2186), (284, 2151), (283, 2037), (317, 2035), (318, 1957), (282, 1932), (13, 1901), (281, 1849), (16, 1836), (319, 1813), (280, 1733), (279, 1627), (320, 1595), (321, 1555), (278, 1504), (277, 1490), (322, 1463)]\r"
     ]
    }
   ],
   "source": [
    "# get paragraph stats\n",
    "bunched_word_counts = Counter()\n",
    "\n",
    "data = map(preprocess,data_from_many(datafiles))\n",
    "i = 0\n",
    "for label, paragraphs in data:\n",
    "    if label != 'NOLABEL' and paragraphs != 'NOCONTENT':\n",
    "        paragraphs = bunch_paragraphs(paragraphs,target_length = 300)\n",
    "        for paragraph in paragraphs:\n",
    "            bunched_word_counts.update([len(paragraph.split(' '))])\n",
    "            i += 1\n",
    "        print(\"[%i] %s\" % (i,bunched_word_counts.most_common(50)),end='\\r')"
   ]
  }
 ],
 "metadata": {
  "kernelspec": {
   "display_name": "Python 3",
   "language": "python",
   "name": "python3"
  },
  "language_info": {
   "codemirror_mode": {
    "name": "ipython",
    "version": 3
   },
   "file_extension": ".py",
   "mimetype": "text/x-python",
   "name": "python",
   "nbconvert_exporter": "python",
   "pygments_lexer": "ipython3",
   "version": "3.6.5"
  }
 },
 "nbformat": 4,
 "nbformat_minor": 2
}
