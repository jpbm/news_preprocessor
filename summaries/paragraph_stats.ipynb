{
 "cells": [
  {
   "cell_type": "code",
   "execution_count": 47,
   "metadata": {},
   "outputs": [
    {
     "data": {
      "text/plain": [
       "[3, 5, 2, 7, 5, 5]"
      ]
     },
     "execution_count": 47,
     "metadata": {},
     "output_type": "execute_result"
    }
   ],
   "source": [
    "vec = [1,2,5,2,7,3,2,5]\n",
    "target = 5\n",
    "\n",
    "def bunch(vec,target=5):\n",
    "    res = []\n",
    "    current = vec.pop(0)\n",
    "    while len(vec) > 0:\n",
    "        next_ = vec.pop(0)\n",
    "        if (current+next_-target)**2 <= (current-target)**2:\n",
    "            current += next_\n",
    "        else:\n",
    "            res += [current]\n",
    "            current = next_\n",
    "    res += [current]\n",
    "    return res\n",
    "\n",
    "bunch(vec)"
   ]
  },
  {
   "cell_type": "code",
   "execution_count": 48,
   "metadata": {},
   "outputs": [
    {
     "data": {
      "text/plain": [
       "['1 2 1', '1 2 3 4', '1 2 3', '1 2 3 4 5', '1 1']"
      ]
     },
     "execution_count": 48,
     "metadata": {},
     "output_type": "execute_result"
    }
   ],
   "source": [
    "def words(x):\n",
    "    return len(x.split(' '))\n",
    "\n",
    "def bunch_paragraphs(paragraphs,target_length=5):\n",
    "    \"\"\"bunches paragraphs into lenghts as close as possible to the target length. not global optimum.\"\"\"\n",
    "    res = []\n",
    "    current = paragraphs.pop(0)\n",
    "    while len(paragraphs) > 0:\n",
    "        next_ = paragraphs.pop(0)\n",
    "        \n",
    "        len_current = words(current)\n",
    "        len_next_ = words(next_)\n",
    "        if (len_current+len_next_-target_length)**2 <= (len_current-target_length)**2:\n",
    "            current += ' '+next_\n",
    "        else:\n",
    "            res += [current]\n",
    "            current = next_\n",
    "    res += [current]\n",
    "    return res\n",
    "\n",
    "vec = ['1 2','1','1 2 3 4','1 2 3','1 2 3 4 5','1','1']\n",
    "bunch_paragraphs(vec)"
   ]
  },
  {
   "cell_type": "code",
   "execution_count": null,
   "metadata": {},
   "outputs": [],
   "source": []
  },
  {
   "cell_type": "code",
   "execution_count": null,
   "metadata": {},
   "outputs": [],
   "source": []
  }
 ],
 "metadata": {
  "kernelspec": {
   "display_name": "Python 3",
   "language": "python",
   "name": "python3"
  },
  "language_info": {
   "codemirror_mode": {
    "name": "ipython",
    "version": 3
   },
   "file_extension": ".py",
   "mimetype": "text/x-python",
   "name": "python",
   "nbconvert_exporter": "python",
   "pygments_lexer": "ipython3",
   "version": "3.6.5"
  }
 },
 "nbformat": 4,
 "nbformat_minor": 2
}
