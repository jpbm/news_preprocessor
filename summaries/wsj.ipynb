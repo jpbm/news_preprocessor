{
 "cells": [
  {
   "cell_type": "code",
   "execution_count": 2,
   "metadata": {},
   "outputs": [
    {
     "name": "stdout",
     "output_type": "stream",
     "text": [
      "Number of entries: 46726\n"
     ]
    }
   ],
   "source": [
    "import sys\n",
    "import os\n",
    "from time import time\n",
    "\n",
    "DATAPATH = '/Users/balthasar/Google Drive/MTL_data/wsj/'\n",
    "sys.path.append(DATAPATH)\n",
    "sys.path.append('../')\n",
    "\n",
    "from src.util import count_lines_many, data_from_many, unpack, bunch_paragraphs\n",
    "\n",
    "datafiles = [DATAPATH + file for file in os.listdir(DATAPATH)]\n",
    "print(\"Number of entries: %i\" % (count_lines_many(datafiles)))"
   ]
  },
  {
   "cell_type": "code",
   "execution_count": 3,
   "metadata": {},
   "outputs": [],
   "source": [
    "import re \n",
    "from bs4 import BeautifulSoup\n",
    "\n",
    "data = data_from_many(datafiles)\n",
    "url, html = unpack(next(data))"
   ]
  },
  {
   "cell_type": "code",
   "execution_count": 61,
   "metadata": {},
   "outputs": [],
   "source": [
    "def get_paragraphs(html):\n",
    "    soup = BeautifulSoup(html,'html.parser')\n",
    "    paragraphs = [tag.get_text() for tag in \n",
    "        soup.findAll('title')+soup.findAll(\"h1\",'wsj-article-headline')+soup.findAll(\"h2\",'sub-head')+soup.findAll(\"p\")]\n",
    "    if len(paragraphs) != 0:\n",
    "        return paragraphs\n",
    "    else:\n",
    "        return 'NOCONTENT'\n",
    "    \n",
    "label_re = re.compile('(?<=<meta name=\"article.type\" content=\").*(?=\" />)')\n",
    "def get_label(html):\n",
    "    label = label_re.search(html)\n",
    "    if label:\n",
    "        return '/'.join(label.group().split(' - '))\n",
    "    else:\n",
    "        return \"NOLABEL\"\n",
    "     \n",
    "\n",
    "def preprocess(item):\n",
    "    url, html = unpack(item)\n",
    "    label = get_label(html)\n",
    "    paragraphs = get_paragraphs(html)\n",
    "    return label, paragraphs"
   ]
  },
  {
   "cell_type": "code",
   "execution_count": 63,
   "metadata": {},
   "outputs": [
    {
     "name": "stdout",
     "output_type": "stream",
     "text": [
      "[45346/46726] Word Count: 22914862 Paragraph Count: 777932 Top-10 classes: [('Business', 4532), ('Politics and Policy', 4156), ('Technology', 3390), ('Markets Main', 3275), ('Heard on the Street', 2169), ('World News', 2096), ('U.S. News', 2074), ('Middle East News', 1267), ('Asia News', 1196), ('Europe News', 1169)]\r"
     ]
    }
   ],
   "source": [
    "# Class count -- count only entries that have easily identifiable content and label\n",
    "from collections import Counter\n",
    "from multiprocessing import Pool\n",
    "\n",
    "classes = Counter()\n",
    "subclasses = Counter()\n",
    "\n",
    "i,j = (0,0)\n",
    "word_count = 0\n",
    "paragraph_count = 0\n",
    "\n",
    "def analyze_item_one(item):\n",
    "    global i,j,word_count,paragraph_count,classes,subclasses\n",
    "    i+=1\n",
    "    label,paragraphs = item\n",
    "    if label != 'NOLABEL' and paragraphs != 'NOCONTENT':\n",
    "        j+=1\n",
    "        class_ = label.split('/')[0]\n",
    "        subclass_ = label\n",
    "        \n",
    "        paragraph_count += len(paragraphs)\n",
    "        for paragraph in paragraphs:\n",
    "            word_count += len(paragraph.split(' '))\n",
    "\n",
    "        classes.update([class_])\n",
    "        subclasses.update([subclass_])\n",
    "        \n",
    "        print(\"[%i/%i] Word Count: %i Paragraph Count: %i Top-10 classes: %s\" % (j,i,word_count,paragraph_count,str(classes.most_common(10))),end='\\r')\n",
    "\n",
    "def analyze_item_many(data):\n",
    "    list(map(analyze_item_one,data))\n",
    "\n",
    "data = map(preprocess,data_from_many(datafiles))\n",
    "analyze_item_many(data)        \n",
    "with open('../summaries/wsj.txt','w') as file:\n",
    "    file.write('WSJ\\n')\n",
    "    file.write(50*\"#\")\n",
    "    file.write('\\nWORD COUNT: %i\\n' % word_count)\n",
    "    file.write('PARAGRAPH COUNT: %i\\n' % paragraph_count)\n",
    "    file.write('CLASSES: \\n')\n",
    "    for item in list(classes.items()):\n",
    "        file.write('%s\\t%i\\n' % item)\n",
    "    file.write('\\n\\n')\n",
    "    file.write('SUBCLASSES: \\n')\n",
    "    for item in list(subclasses.items()):\n",
    "        file.write('%s\\t%i\\n' % item)\n",
    "    file.write('\\n\\n')"
   ]
  },
  {
   "cell_type": "code",
   "execution_count": null,
   "metadata": {},
   "outputs": [],
   "source": []
  }
 ],
 "metadata": {
  "kernelspec": {
   "display_name": "Python 3",
   "language": "python",
   "name": "python3"
  },
  "language_info": {
   "codemirror_mode": {
    "name": "ipython",
    "version": 3
   },
   "file_extension": ".py",
   "mimetype": "text/x-python",
   "name": "python",
   "nbconvert_exporter": "python",
   "pygments_lexer": "ipython3",
   "version": "3.6.5"
  }
 },
 "nbformat": 4,
 "nbformat_minor": 2
}
