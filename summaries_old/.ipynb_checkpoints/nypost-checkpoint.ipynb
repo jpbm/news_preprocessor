{
 "cells": [
  {
   "cell_type": "code",
   "execution_count": 1,
   "metadata": {},
   "outputs": [
    {
     "name": "stdout",
     "output_type": "stream",
     "text": [
      "Number of entries: 757217\n"
     ]
    }
   ],
   "source": [
    "import sys\n",
    "import os\n",
    "from time import time\n",
    "\n",
    "DATAPATH = '/Users/balthasar/Google Drive/MTL_data/nypost/'\n",
    "sys.path.append(DATAPATH)\n",
    "sys.path.append('../')\n",
    "\n",
    "from src.util import count_lines_many, data_from_many, unpack, bunch_paragraphs\n",
    "\n",
    "datafiles = [DATAPATH + file for file in os.listdir(DATAPATH)]\n",
    "print(\"Number of entries: %i\" % (count_lines_many(datafiles)))"
   ]
  },
  {
   "cell_type": "code",
   "execution_count": 6,
   "metadata": {},
   "outputs": [],
   "source": [
    "data = data_from_many(datafiles)\n",
    "url, html = unpack(next(data))"
   ]
  },
  {
   "cell_type": "code",
   "execution_count": 29,
   "metadata": {},
   "outputs": [
    {
     "data": {
      "text/plain": [
       "'Metro'"
      ]
     },
     "execution_count": 29,
     "metadata": {},
     "output_type": "execute_result"
    }
   ],
   "source": [
    "\n",
    "\n",
    "import re \n",
    "from bs4 import BeautifulSoup\n",
    "\n",
    "def get_paragraphs(html):\n",
    "    soup = BeautifulSoup(html,'html.parser')\n",
    "    paragraphs = [tag.get_text() for tag in [soup.findAll('title')[0]]+soup.findAll('description')[1:]+soup.findAll(type='html')+soup.findAll('p')]\n",
    "    if len(paragraphs) != 0:\n",
    "        return paragraphs\n",
    "    else:\n",
    "        return 'NOCONTENT'\n",
    "\n",
    "def get_label(html):\n",
    "    label = BeautifulSoup(html,'html.parser').findAll('p')[0].get_text().strip('\\n')\n",
    "    if len(label)> 0:\n",
    "        return label\n",
    "    else:\n",
    "        return \"NOLABEL\"\n",
    "    \n",
    "get_paragraphs(html)\n",
    "get_label(html)"
   ]
  },
  {
   "cell_type": "code",
   "execution_count": 28,
   "metadata": {
    "scrolled": false
   },
   "outputs": [
    {
     "name": "stdout",
     "output_type": "stream",
     "text": [
      "https://nypost.com/2012/02/23/grandmother-four-young-children-killed-in-nj-house-fire/amp\n"
     ]
    },
    {
     "data": {
      "text/plain": [
       "'\\nMetro\\n'"
      ]
     },
     "execution_count": 28,
     "metadata": {},
     "output_type": "execute_result"
    }
   ],
   "source": [
    "print(url)\n",
    "[item.get_text() for item in BeautifulSoup(html,'html.parser').findAll('p')]\n",
    "BeautifulSoup(html,'html.parser').findAll(\"p\")[0].get_text()"
   ]
  },
  {
   "cell_type": "code",
   "execution_count": 5,
   "metadata": {},
   "outputs": [
    {
     "ename": "IndexError",
     "evalue": "list index out of range",
     "output_type": "error",
     "traceback": [
      "\u001b[0;31m---------------------------------------------------------------------------\u001b[0m",
      "\u001b[0;31mIndexError\u001b[0m                                Traceback (most recent call last)",
      "\u001b[0;32m<ipython-input-5-8c3d8fd087b6>\u001b[0m in \u001b[0;36m<module>\u001b[0;34m()\u001b[0m\n\u001b[0;32m----> 1\u001b[0;31m \u001b[0mBeautifulSoup\u001b[0m\u001b[0;34m(\u001b[0m\u001b[0mhtml\u001b[0m\u001b[0;34m,\u001b[0m\u001b[0;34m'html.parser'\u001b[0m\u001b[0;34m)\u001b[0m\u001b[0;34m.\u001b[0m\u001b[0mfindAll\u001b[0m\u001b[0;34m(\u001b[0m\u001b[0mtype\u001b[0m\u001b[0;34m=\u001b[0m\u001b[0;34m\"html\"\u001b[0m\u001b[0;34m)\u001b[0m\u001b[0;34m[\u001b[0m\u001b[0;36m0\u001b[0m\u001b[0;34m]\u001b[0m\u001b[0;34m.\u001b[0m\u001b[0mget_text\u001b[0m\u001b[0;34m(\u001b[0m\u001b[0;34m)\u001b[0m\u001b[0;34m\u001b[0m\u001b[0m\n\u001b[0m",
      "\u001b[0;31mIndexError\u001b[0m: list index out of range"
     ]
    }
   ],
   "source": [
    "BeautifulSoup(html,'html.parser').findAll(type=\"html\")[0].get_text()"
   ]
  },
  {
   "cell_type": "code",
   "execution_count": null,
   "metadata": {},
   "outputs": [],
   "source": []
  }
 ],
 "metadata": {
  "kernelspec": {
   "display_name": "Python 3",
   "language": "python",
   "name": "python3"
  },
  "language_info": {
   "codemirror_mode": {
    "name": "ipython",
    "version": 3
   },
   "file_extension": ".py",
   "mimetype": "text/x-python",
   "name": "python",
   "nbconvert_exporter": "python",
   "pygments_lexer": "ipython3",
   "version": "3.6.5"
  }
 },
 "nbformat": 4,
 "nbformat_minor": 2
}
