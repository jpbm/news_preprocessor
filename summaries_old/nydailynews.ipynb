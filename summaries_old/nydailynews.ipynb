{
 "cells": [
  {
   "cell_type": "code",
   "execution_count": 7,
   "metadata": {},
   "outputs": [
    {
     "name": "stdout",
     "output_type": "stream",
     "text": [
      "Number of entries: 155328\n"
     ]
    }
   ],
   "source": [
    "import sys\n",
    "import os\n",
    "from time import time\n",
    "\n",
    "DATAPATH = '/Users/balthasar/Google Drive/MTL_data/nydailynews/'\n",
    "sys.path.append(DATAPATH)\n",
    "sys.path.append('../')\n",
    "\n",
    "from src.util import count_lines_many, data_from_many\n",
    "\n",
    "datafiles = [DATAPATH + file for file in os.listdir(DATAPATH)]\n",
    "print(\"Number of entries: %i\" % (count_lines_many(datafiles)))"
   ]
  },
  {
   "cell_type": "code",
   "execution_count": 2,
   "metadata": {
    "scrolled": true
   },
   "outputs": [],
   "source": [
    "import json \n",
    "import re\n",
    "from bs4 import BeautifulSoup\n",
    "\n",
    "# NY Daily News specific\n",
    "def get_paragraphs(html):\n",
    "    soup = BeautifulSoup(html,'html.parser')\n",
    "    if soup.findAll(\"article\"):\n",
    "        paragraphs = [tag.get_text().strip('\\r\\n\\t') for tag in \n",
    "                      soup.findAll(\"title\")+\n",
    "                      soup.findAll(\"article\")[0].findAll('p')+\n",
    "                      soup.findAll(\"span\",itemprop=\"caption\")+\n",
    "                      soup.findAll(\"p\",\"g-article-html\")]\n",
    "    else:\n",
    "        paragraphs = [tag.get_text().strip('\\r\\n\\t') for tag in \n",
    "              soup.findAll(\"title\")+\n",
    "              soup.findAll(\"span\",itemprop=\"caption\")+\n",
    "              soup.findAll(\"p\",\"g-article-html\")]\n",
    "        \n",
    "    if len(paragraphs) > 1:\n",
    "        return paragraphs\n",
    "    else:\n",
    "        return 'NOCONTENT'\n",
    "    \n",
    "label_re = re.compile('(?<=http://www.nydailynews.com/).*')\n",
    "def get_label(url):\n",
    "    label = label_re.search(url)\n",
    "    if label:\n",
    "        return '/'.join(label.group().split('/')[:-1])\n",
    "    else:\n",
    "        return \"NOLABEL\"\n",
    "    \n",
    "\n",
    "# General   \n",
    "def unpack(item):\n",
    "    return tuple(json.loads(item).values())\n",
    "\n",
    "def words(x):\n",
    "    return len(x.split(' '))\n",
    "\n",
    "def bunch_paragraphs(paragraphs,target_length=300):\n",
    "    \"\"\"bunches paragraphs into lenghts as close as possible to the target length. not global optimum.\"\"\"\n",
    "    res = []\n",
    "    current = paragraphs.pop(0)\n",
    "    while len(paragraphs) > 0:\n",
    "        next_ = paragraphs.pop(0)\n",
    "        \n",
    "        len_current = words(current)\n",
    "        len_next_ = words(next_)\n",
    "        if (len_current+len_next_-target_length)**2 <= (len_current-target_length)**2:\n",
    "            current += ' '+next_\n",
    "        else:\n",
    "            res += [current]\n",
    "            current = next_\n",
    "    res += [current]\n",
    "    return res\n",
    "\n",
    "def preprocess(item):\n",
    "    url, html = unpack(item)\n",
    "    label = get_label(url)\n",
    "    paragraphs = get_paragraphs(html)\n",
    "    return label, paragraphs"
   ]
  },
  {
   "cell_type": "code",
   "execution_count": 3,
   "metadata": {
    "scrolled": false
   },
   "outputs": [
    {
     "name": "stdout",
     "output_type": "stream",
     "text": [
      "[116794/155327] Word Count: 79815451 Paragraph Count: 2811957 Top-10 classes: [('amp', 49817), ('news', 19426), ('sports', 17924), ('entertainment', 9659), ('new-york', 8073), ('autos', 8038), ('opinion', 1592), ('life-style', 1006), ('blogs', 466), ('', 231)] 162)]\r"
     ]
    }
   ],
   "source": [
    "# Class count -- count only entries that have easily identifiable content and label\n",
    "from collections import Counter\n",
    "from multiprocessing import Pool\n",
    "\n",
    "classes = Counter()\n",
    "subclasses = Counter()\n",
    "\n",
    "i,j = (0,0)\n",
    "word_count = 0\n",
    "paragraph_count = 0\n",
    "\n",
    "def analyze_item_one(item):\n",
    "    global i,j,word_count,paragraph_count,classes,subclasses\n",
    "    i+=1\n",
    "    label,paragraphs = item\n",
    "    if label != 'NOLABEL' and paragraphs != 'NOCONTENT':\n",
    "        j+=1\n",
    "        class_ = label.split('/')[0]\n",
    "        subclass_ = label\n",
    "        \n",
    "        paragraph_count += len(paragraphs)\n",
    "        for paragraph in paragraphs:\n",
    "            word_count += len(paragraph.split(' '))\n",
    "\n",
    "        classes.update([class_])\n",
    "        subclasses.update([subclass_])\n",
    "        \n",
    "        print(\"[%i/%i] Word Count: %i Paragraph Count: %i Top-10 classes: %s\" % (j,i,word_count,paragraph_count,str(classes.most_common(10))),end='\\r')\n",
    "\n",
    "def analyze_item_many(data):\n",
    "    list(map(analyze_item_one,data))\n",
    "\n",
    "data = map(preprocess,data_from_many(datafiles))\n",
    "analyze_item_many(data)        \n",
    "with open('../summaries/nydailynews.txt','w') as file:\n",
    "    file.write('NYDAILYNEWS\\n')\n",
    "    file.write(50*\"#\")\n",
    "    file.write('\\nWORD COUNT: %i\\n' % word_count)\n",
    "    file.write('PARAGRAPH COUNT: %i\\n' % paragraph_count)\n",
    "    file.write('CLASSES: \\n')\n",
    "    for item in list(classes.items()):\n",
    "        file.write('%s\\t%i\\n' % item)\n",
    "    file.write('\\n\\n')\n",
    "    file.write('SUBCLASSES: \\n')\n",
    "    for item in list(subclasses.items()):\n",
    "        file.write('%s\\t%i\\n' % item)\n",
    "    file.write('\\n\\n')"
   ]
  },
  {
   "cell_type": "code",
   "execution_count": 4,
   "metadata": {},
   "outputs": [
    {
     "name": "stdout",
     "output_type": "stream",
     "text": [
      "[2811957] [(10, 101672), (12, 87387), (11, 86087), (13, 84185), (9, 79281), (14, 78094), (15, 68413), (26, 66146), (24, 65931), (25, 65838)]\r"
     ]
    }
   ],
   "source": [
    "# get paragraph stats\n",
    "word_counts = Counter()\n",
    "\n",
    "data = map(preprocess,data_from_many(datafiles))\n",
    "i = 0\n",
    "for label, paragraphs in data:\n",
    "    if label != 'NOLABEL' and paragraphs != 'NOCONTENT':\n",
    "        for paragraph in paragraphs:\n",
    "            word_counts.update([len(paragraph.split(' '))])\n",
    "            i += 1\n",
    "        print(\"[%i] %s\" % (i,word_counts.most_common(10)),end='\\r')"
   ]
  },
  {
   "cell_type": "code",
   "execution_count": 5,
   "metadata": {},
   "outputs": [],
   "source": [
    "with open('../summaries/nydailynews_paragraph_stats.txt','w') as file:\n",
    "    for item in list(word_counts.items()):\n",
    "        file.write('%s\\t%i\\n' % item)"
   ]
  },
  {
   "cell_type": "code",
   "execution_count": 6,
   "metadata": {},
   "outputs": [
    {
     "name": "stdout",
     "output_type": "stream",
     "text": [
      "[320844] [(300, 7408), (299, 7264), (298, 7122), (301, 7109), (302, 6902), (297, 6895), (303, 6879), (304, 6700), (296, 6631), (305, 6263), (295, 6257), (306, 5894), (294, 5798), (307, 5486), (293, 5407), (308, 5255), (292, 5222), (309, 4919), (291, 4853), (290, 4716), (310, 4599), (289, 4387), (311, 4243), (288, 4096), (312, 3983), (287, 3690), (313, 3481), (286, 3270), (314, 3224), (285, 3041), (315, 2929), (284, 2750), (316, 2624), (283, 2519), (317, 2337), (282, 2243), (281, 2157), (318, 2038), (280, 1927), (279, 1810), (319, 1809), (320, 1662), (278, 1586), (321, 1577), (277, 1566), (276, 1436), (322, 1412), (275, 1322), (323, 1269), (274, 1194)]\r"
     ]
    }
   ],
   "source": [
    "# get paragraph stats\n",
    "bunched_word_counts = Counter()\n",
    "\n",
    "data = map(preprocess,data_from_many(datafiles))\n",
    "i = 0\n",
    "for label, paragraphs in data:\n",
    "    if label != 'NOLABEL' and paragraphs != 'NOCONTENT':\n",
    "        paragraphs = bunch_paragraphs(paragraphs,target_length = 300)\n",
    "        for paragraph in paragraphs:\n",
    "            bunched_word_counts.update([len(paragraph.split(' '))])\n",
    "            i += 1\n",
    "        print(\"[%i] %s\" % (i,bunched_word_counts.most_common(50)),end='\\r')"
   ]
  },
  {
   "cell_type": "code",
   "execution_count": 9,
   "metadata": {},
   "outputs": [
    {
     "name": "stdout",
     "output_type": "stream",
     "text": [
      "2999\r"
     ]
    },
    {
     "ename": "NameError",
     "evalue": "name 'RateLimit' is not defined",
     "output_type": "error",
     "traceback": [
      "\u001b[0;31m---------------------------------------------------------------------------\u001b[0m",
      "\u001b[0;31mNameError\u001b[0m                                 Traceback (most recent call last)",
      "\u001b[0;32m<ipython-input-9-4ab6240e90ce>\u001b[0m in \u001b[0;36m<module>\u001b[0;34m()\u001b[0m\n\u001b[1;32m     16\u001b[0m                     \u001b[0mfile\u001b[0m\u001b[0;34m.\u001b[0m\u001b[0mwrite\u001b[0m\u001b[0;34m(\u001b[0m\u001b[0mjson\u001b[0m\u001b[0;34m.\u001b[0m\u001b[0mdumps\u001b[0m\u001b[0;34m(\u001b[0m\u001b[0mitem\u001b[0m\u001b[0;34m)\u001b[0m\u001b[0;34m+\u001b[0m\u001b[0;34m'\\n'\u001b[0m\u001b[0;34m)\u001b[0m\u001b[0;34m\u001b[0m\u001b[0m\n\u001b[1;32m     17\u001b[0m                     \u001b[0;32mif\u001b[0m \u001b[0mi\u001b[0m \u001b[0;34m==\u001b[0m \u001b[0;36m3000\u001b[0m\u001b[0;34m:\u001b[0m\u001b[0;34m\u001b[0m\u001b[0m\n\u001b[0;32m---> 18\u001b[0;31m                         \u001b[0;32mraise\u001b[0m \u001b[0mRateLimit\u001b[0m\u001b[0;34m\u001b[0m\u001b[0m\n\u001b[0m",
      "\u001b[0;31mNameError\u001b[0m: name 'RateLimit' is not defined"
     ]
    }
   ],
   "source": [
    "# get a datasample for Friederike\n",
    "import json\n",
    "\n",
    "data = map(preprocess,data_from_many(datafiles))\n",
    "i = 0\n",
    "with open('nydailynews_datasample.csv','w') as file:\n",
    "    for label, paragraphs in data:\n",
    "        if label != 'NOLABEL' and paragraphs != 'NOCONTENT':\n",
    "            text_chunks = bunch_paragraphs(paragraphs,target_length=250)\n",
    "            labels = [label for i in range(len(text_chunks))]\n",
    "            items = zip(labels,text_chunks)\n",
    "            for item in items:\n",
    "                if len(item[1].split(' ')) >= 100:\n",
    "                    print(i,end='\\r')\n",
    "                    i+=1\n",
    "                    file.write(json.dumps(item)+'\\n')\n",
    "                    if i == 3000:\n",
    "                        raise RateLimit"
   ]
  },
  {
   "cell_type": "code",
   "execution_count": null,
   "metadata": {},
   "outputs": [],
   "source": []
  }
 ],
 "metadata": {
  "kernelspec": {
   "display_name": "Python 3",
   "language": "python",
   "name": "python3"
  },
  "language_info": {
   "codemirror_mode": {
    "name": "ipython",
    "version": 3
   },
   "file_extension": ".py",
   "mimetype": "text/x-python",
   "name": "python",
   "nbconvert_exporter": "python",
   "pygments_lexer": "ipython3",
   "version": "3.6.5"
  }
 },
 "nbformat": 4,
 "nbformat_minor": 2
}
