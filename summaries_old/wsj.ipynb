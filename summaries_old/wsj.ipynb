{
 "cells": [
  {
   "cell_type": "code",
   "execution_count": 2,
   "metadata": {},
   "outputs": [
    {
     "name": "stdout",
     "output_type": "stream",
     "text": [
      "Number of entries: 46726\n"
     ]
    }
   ],
   "source": [
    "import sys\n",
    "import os\n",
    "from time import time\n",
    "\n",
    "DATAPATH = '/Users/balthasar/Google Drive/MTL_data/wsj/'\n",
    "sys.path.append(DATAPATH)\n",
    "sys.path.append('../')\n",
    "\n",
    "from src.util import count_lines_many, data_from_many, unpack, bunch_paragraphs\n",
    "\n",
    "datafiles = [DATAPATH + file for file in os.listdir(DATAPATH)]\n",
    "print(\"Number of entries: %i\" % (count_lines_many(datafiles)))"
   ]
  },
  {
   "cell_type": "code",
   "execution_count": 71,
   "metadata": {},
   "outputs": [],
   "source": [
    "import re \n",
    "from bs4 import BeautifulSoup\n",
    "\n",
    "data = data_from_many(datafiles)\n",
    "url, html = unpack(next(data))"
   ]
  },
  {
   "cell_type": "code",
   "execution_count": 72,
   "metadata": {},
   "outputs": [],
   "source": [
    "def get_paragraphs(html):\n",
    "    soup = BeautifulSoup(html,'html.parser')\n",
    "    paragraphs = [tag.get_text() for tag in \n",
    "        soup.findAll('title')+soup.findAll(\"h1\",'wsj-article-headline')+soup.findAll(\"h2\",'sub-head')+soup.findAll(\"p\")]\n",
    "    if len(paragraphs) != 0:\n",
    "        return paragraphs\n",
    "    else:\n",
    "        return 'NOCONTENT'\n",
    "    \n",
    "label_re = re.compile('(?<=<meta name=\"article.type\" content=\").*(?=\" />)')\n",
    "def get_label(html):\n",
    "    label = label_re.search(html)\n",
    "    if label:\n",
    "        return '/'.join(label.group().split(' - '))\n",
    "    else:\n",
    "        return \"NOLABEL\"\n",
    "     \n",
    "\n",
    "def preprocess(item):\n",
    "    url, html = unpack(item)\n",
    "    label = get_label(html)\n",
    "    paragraphs = get_paragraphs(html)\n",
    "    return label, paragraphs"
   ]
  },
  {
   "cell_type": "code",
   "execution_count": 73,
   "metadata": {},
   "outputs": [
    {
     "ename": "ValueError",
     "evalue": "too many values to unpack (expected 2)",
     "output_type": "error",
     "traceback": [
      "\u001b[0;31m---------------------------------------------------------------------------\u001b[0m",
      "\u001b[0;31mValueError\u001b[0m                                Traceback (most recent call last)",
      "\u001b[0;32m<ipython-input-73-b77f05a83783>\u001b[0m in \u001b[0;36m<module>\u001b[0;34m()\u001b[0m\n\u001b[1;32m     31\u001b[0m     \u001b[0mlist\u001b[0m\u001b[0;34m(\u001b[0m\u001b[0mmap\u001b[0m\u001b[0;34m(\u001b[0m\u001b[0manalyze_item_one\u001b[0m\u001b[0;34m,\u001b[0m\u001b[0mdata\u001b[0m\u001b[0;34m)\u001b[0m\u001b[0;34m)\u001b[0m\u001b[0;34m\u001b[0m\u001b[0m\n\u001b[1;32m     32\u001b[0m \u001b[0;34m\u001b[0m\u001b[0m\n\u001b[0;32m---> 33\u001b[0;31m \u001b[0manalyze_item_many\u001b[0m\u001b[0;34m(\u001b[0m\u001b[0mdata\u001b[0m\u001b[0;34m)\u001b[0m\u001b[0;34m\u001b[0m\u001b[0m\n\u001b[0m",
      "\u001b[0;32m<ipython-input-73-b77f05a83783>\u001b[0m in \u001b[0;36manalyze_item_many\u001b[0;34m(data)\u001b[0m\n\u001b[1;32m     29\u001b[0m \u001b[0;34m\u001b[0m\u001b[0m\n\u001b[1;32m     30\u001b[0m \u001b[0;32mdef\u001b[0m \u001b[0manalyze_item_many\u001b[0m\u001b[0;34m(\u001b[0m\u001b[0mdata\u001b[0m\u001b[0;34m)\u001b[0m\u001b[0;34m:\u001b[0m\u001b[0;34m\u001b[0m\u001b[0m\n\u001b[0;32m---> 31\u001b[0;31m     \u001b[0mlist\u001b[0m\u001b[0;34m(\u001b[0m\u001b[0mmap\u001b[0m\u001b[0;34m(\u001b[0m\u001b[0manalyze_item_one\u001b[0m\u001b[0;34m,\u001b[0m\u001b[0mdata\u001b[0m\u001b[0;34m)\u001b[0m\u001b[0;34m)\u001b[0m\u001b[0;34m\u001b[0m\u001b[0m\n\u001b[0m\u001b[1;32m     32\u001b[0m \u001b[0;34m\u001b[0m\u001b[0m\n\u001b[1;32m     33\u001b[0m \u001b[0manalyze_item_many\u001b[0m\u001b[0;34m(\u001b[0m\u001b[0mdata\u001b[0m\u001b[0;34m)\u001b[0m\u001b[0;34m\u001b[0m\u001b[0m\n",
      "\u001b[0;32m<ipython-input-73-b77f05a83783>\u001b[0m in \u001b[0;36manalyze_item_one\u001b[0;34m(item)\u001b[0m\n\u001b[1;32m     13\u001b[0m     \u001b[0;32mglobal\u001b[0m \u001b[0mi\u001b[0m\u001b[0;34m,\u001b[0m\u001b[0mj\u001b[0m\u001b[0;34m,\u001b[0m\u001b[0mword_count\u001b[0m\u001b[0;34m,\u001b[0m\u001b[0mparagraph_count\u001b[0m\u001b[0;34m,\u001b[0m\u001b[0mclasses\u001b[0m\u001b[0;34m,\u001b[0m\u001b[0msubclasses\u001b[0m\u001b[0;34m\u001b[0m\u001b[0m\n\u001b[1;32m     14\u001b[0m     \u001b[0mi\u001b[0m\u001b[0;34m+=\u001b[0m\u001b[0;36m1\u001b[0m\u001b[0;34m\u001b[0m\u001b[0m\n\u001b[0;32m---> 15\u001b[0;31m     \u001b[0mlabel\u001b[0m\u001b[0;34m,\u001b[0m\u001b[0mparagraphs\u001b[0m \u001b[0;34m=\u001b[0m \u001b[0mitem\u001b[0m\u001b[0;34m\u001b[0m\u001b[0m\n\u001b[0m\u001b[1;32m     16\u001b[0m     \u001b[0;32mif\u001b[0m \u001b[0mlabel\u001b[0m \u001b[0;34m!=\u001b[0m \u001b[0;34m'NOLABEL'\u001b[0m \u001b[0;32mand\u001b[0m \u001b[0mparagraphs\u001b[0m \u001b[0;34m!=\u001b[0m \u001b[0;34m'NOCONTENT'\u001b[0m\u001b[0;34m:\u001b[0m\u001b[0;34m\u001b[0m\u001b[0m\n\u001b[1;32m     17\u001b[0m         \u001b[0mj\u001b[0m\u001b[0;34m+=\u001b[0m\u001b[0;36m1\u001b[0m\u001b[0;34m\u001b[0m\u001b[0m\n",
      "\u001b[0;31mValueError\u001b[0m: too many values to unpack (expected 2)"
     ]
    }
   ],
   "source": [
    "# Class count -- count only entries that have easily identifiable content and label\n",
    "from collections import Counter\n",
    "from multiprocessing import Pool\n",
    "\n",
    "classes = Counter()\n",
    "subclasses = Counter()\n",
    "\n",
    "i,j = (0,0)\n",
    "word_count = 0\n",
    "paragraph_count = 0\n",
    "\n",
    "def analyze_item_one(item):\n",
    "    global i,j,word_count,paragraph_count,classes,subclasses\n",
    "    i+=1\n",
    "    label,paragraphs = item\n",
    "    if label != 'NOLABEL' and paragraphs != 'NOCONTENT':\n",
    "        j+=1\n",
    "        class_ = label.split('/')[0]\n",
    "        subclass_ = label\n",
    "        \n",
    "        paragraph_count += len(paragraphs)\n",
    "        for paragraph in paragraphs:\n",
    "            word_count += len(paragraph.split(' '))\n",
    "\n",
    "        classes.update([class_])\n",
    "        subclasses.update([subclass_])\n",
    "        \n",
    "        print(\"[%i/%i] Word Count: %i Paragraph Count: %i Top-10 classes: %s\" % (j,i,word_count,paragraph_count,str(classes.most_common(10))),end='\\r')\n",
    "\n",
    "def analyze_item_many(data):\n",
    "    list(map(analyze_item_one,data))\n",
    "    \n",
    "analyze_item_many(data) "
   ]
  },
  {
   "cell_type": "code",
   "execution_count": 63,
   "metadata": {},
   "outputs": [
    {
     "name": "stdout",
     "output_type": "stream",
     "text": [
      "[45346/46726] Word Count: 22914862 Paragraph Count: 777932 Top-10 classes: [('Business', 4532), ('Politics and Policy', 4156), ('Technology', 3390), ('Markets Main', 3275), ('Heard on the Street', 2169), ('World News', 2096), ('U.S. News', 2074), ('Middle East News', 1267), ('Asia News', 1196), ('Europe News', 1169)]\r"
     ]
    }
   ],
   "source": [
    "data = map(preprocess,data_from_many(datafiles))\n",
    "analyze_item_many(data)        \n",
    "with open('../summaries/wsj.txt','w') as file:\n",
    "    file.write('WSJ\\n')\n",
    "    file.write(50*\"#\")\n",
    "    file.write('\\nWORD COUNT: %i\\n' % word_count)\n",
    "    file.write('PARAGRAPH COUNT: %i\\n' % paragraph_count)\n",
    "    file.write('CLASSES: \\n')\n",
    "    for item in list(classes.items()):\n",
    "        file.write('%s\\t%i\\n' % item)\n",
    "    file.write('\\n\\n')\n",
    "    file.write('SUBCLASSES: \\n')\n",
    "    for item in list(subclasses.items()):\n",
    "        file.write('%s\\t%i\\n' % item)\n",
    "    file.write('\\n\\n')"
   ]
  },
  {
   "cell_type": "code",
   "execution_count": 66,
   "metadata": {},
   "outputs": [
    {
     "name": "stdout",
     "output_type": "stream",
     "text": [
      "2999\r"
     ]
    },
    {
     "ename": "NameError",
     "evalue": "name 'RateLimit' is not defined",
     "output_type": "error",
     "traceback": [
      "\u001b[0;31m---------------------------------------------------------------------------\u001b[0m",
      "\u001b[0;31mNameError\u001b[0m                                 Traceback (most recent call last)",
      "\u001b[0;32m<ipython-input-66-a0a38d8b158c>\u001b[0m in \u001b[0;36m<module>\u001b[0;34m()\u001b[0m\n\u001b[1;32m     16\u001b[0m                     \u001b[0mfile\u001b[0m\u001b[0;34m.\u001b[0m\u001b[0mwrite\u001b[0m\u001b[0;34m(\u001b[0m\u001b[0mjson\u001b[0m\u001b[0;34m.\u001b[0m\u001b[0mdumps\u001b[0m\u001b[0;34m(\u001b[0m\u001b[0mitem\u001b[0m\u001b[0;34m)\u001b[0m\u001b[0;34m+\u001b[0m\u001b[0;34m'\\n'\u001b[0m\u001b[0;34m)\u001b[0m\u001b[0;34m\u001b[0m\u001b[0m\n\u001b[1;32m     17\u001b[0m                     \u001b[0;32mif\u001b[0m \u001b[0mi\u001b[0m \u001b[0;34m==\u001b[0m \u001b[0;36m3000\u001b[0m\u001b[0;34m:\u001b[0m\u001b[0;34m\u001b[0m\u001b[0m\n\u001b[0;32m---> 18\u001b[0;31m                         \u001b[0;32mraise\u001b[0m \u001b[0mRateLimit\u001b[0m\u001b[0;34m\u001b[0m\u001b[0m\n\u001b[0m",
      "\u001b[0;31mNameError\u001b[0m: name 'RateLimit' is not defined"
     ]
    }
   ],
   "source": [
    "# get a datasample for Friederike\n",
    "import json\n",
    "\n",
    "data = map(preprocess,data_from_many(datafiles))\n",
    "i = 0\n",
    "with open('wsj_datasample.csv','w') as file:\n",
    "    for label, paragraphs in data:\n",
    "        if label != 'NOLABEL' and paragraphs != 'NOCONTENT':\n",
    "            text_chunks = bunch_paragraphs(paragraphs,target_length=250)\n",
    "            labels = [label for i in range(len(text_chunks))]\n",
    "            items = zip(labels,text_chunks)\n",
    "            for item in items:\n",
    "                if len(item[1].split(' ')) >= 100:\n",
    "                    print(i,end='\\r')\n",
    "                    i+=1\n",
    "                    file.write(json.dumps(item)+'\\n')\n",
    "                    if i == 3000:\n",
    "                        raise RateLimit"
   ]
  },
  {
   "cell_type": "code",
   "execution_count": 76,
   "metadata": {},
   "outputs": [
    {
     "data": {
      "text/plain": [
       "('NBA',\n",
       " ['\\n    James Harden’s Stepback 3-Pointer Is a Step Ahead of the NBA - WSJ\\n  ',\n",
       "  'James Harden’s Stepback 3-Pointer Is a Step Ahead of the NBA',\n",
       "  'The Houston Rockets star has a revolutionary shot of his own. He’s taking more stepback 3-pointers by himself than any NBA team. And it’s working.',\n",
       "  'NATHANIEL BUTLER/NBAE/GETTY IMAGES',\n",
       "  'By',\n",
       "  '\\nBen Cohen\\n',\n",
       "  ' Houston ',\n",
       "  'The most spectacular play of this NBA season began like so many other Houston Rockets possessions. James Harden isolated his defender on the perimeter. The Rockets spread themselves across the court to let him do the one thing he does better than anyone in the history of basketball.',\n",
       "  'Before he could take yet another stepback 3-pointer,...\\n',\n",
       "  ' Houston ',\n",
       "  'The most spectacular play of this NBA season began like so many other Houston Rockets possessions. James Harden isolated his defender on the perimeter. The Rockets spread themselves across the court to let him do the one thing he does better than anyone in the history of basketball.',\n",
       "  'Before he could take yet another stepback 3-pointer, though, something oddly exciting happened: absolutely nothing.',\n",
       "  'Harden lowered his right shoulder, drove to his left, stopped and inched behind the 3-point line. But he didn’t shoot. He stared. Los Angeles Clippers forward Wesley Johnson was supposed to be guarding him. Instead he was on the court splayed like a crab. Harden’s stepback gave him enough time and space to glare at Johnson for two full seconds before he finally deigned to shoot.',\n",
       "  'It was the perfect encapsulation of a season in which Harden has stumbled upon a weapon the rest of the NBA is powerless to stop. Harden’s stepback 3-pointer is as revolutionary as Stephen Curry’s deep, off-the-dribble 3-pointer. It’s a shot that’s basically unguardable. It’s the reason he’s likely to be the league’s most valuable player. It’s something extraordinary that only he could make ordinary.',\n",
       "  '“He’s a step ahead of the game,” Rockets coach Mike D’Antoni said.',\n",
       "  'Harden takes more stepback 3-pointers than any NBA player. But that doesn’t even begin to describe how much of an outlier this shot makes him. Because it doesn’t make sense to compare him with NBA players. Harden has attempted more stepback 3-pointers this year than any NBA team.',\n",
       "  'There are six whole teams that haven’t taken as many combined as Harden has taken by himself. The league average this season excluding the Rockets is 60. The Denver Nuggets lead the NBA with 113. James Harden alone has attempted 157.',\n",
       "  '“It’s actually crazy,” Rockets general manager Daryl Morey said.',\n",
       "  'Here’s what’s especially crazy: not how many Harden takes but how many Harden makes.',\n",
       "  'These are shots that require him to be fading away from the basket several feet behind the line with a hand in his face and some impossibly large man lunging at him. And yet Harden is shooting a remarkable 45.9% on his stepback 3-pointers. He’s shooting 32.5% on his catch-and-shoot 3-pointers, according to NBA data, and even on his open 3-pointers he’s only shooting 39.1%.',\n",
       "  'Let’s take a step back to understand exactly how bananas that is.',\n",
       "  'Harden gets 0.75 points of value per shot attempt in the mid-range, 1.1 points behind the 3-point line and 1.26 points around the rim—layups and dunks that should carry the highest returns. Except they don’t for Harden. And that’s because he is getting 1.38 points on his stepback threes.',\n",
       "  'James Harden squares up for a 3-point shot.Photo: Bob Levey/Getty Images',\n",
       "  'His stepback 3-pointer is a useful window on how and why the Rockets have won 31 of their last 33 games with the best record in the league and the best offense in the history of the league. It’s both a reflection of the way they think off the court and the result of everything they do on the court.',\n",
       "  'Harden may be the only player in the league with the lower-body strength to make the stepback an essential part of his game. When he visited the Peak Performance Project sports laboratory two years ago for biomechanical tests, Harden learned that he ranked in the 99th percentile of professional athletes in one peculiar area: how quickly he stopped his downward momentum after jumping. Harden was the fastest at slowing down.',\n",
       "  'That braking system is the secret to his stepback. Curry has the sublime hand-eye coordination to shoot 3-pointers from previously unimaginable distances. Dirk Nowitzki was tall enough to sneak his one-legged fadeaway over any defender. Harden uses his superior deceleration to create the space he requires for his stepback 3-pointers.',\n",
       "  '“Not many people can do that,” D’Antoni said, “and that’s not what a lot of people think you should be doing.”',\n",
       "  'The Rockets, the first team to shoot more 3-pointers than 2-pointers, love things not a lot of people think they should be doing. But they didn’t enter this season writing on the erasable walls in D’Antoni’s office that Harden should break his own existing record for stepback 3-pointers. This idea was as much serendipity as strategy. Here’s the way D’Antoni himself describes the process by which he realized Harden taking a stepback 3-pointer was a good shot: “Ooooh, look at that! That looks good.”',\n",
       "  'Harden can now shoot as many stepback 3-pointers as he wants for the same reason the Rockets are willing to stick with any experiment: because it works. And it works because of Harden and because of everyone around Harden.',\n",
       "  '“When you see something every day,” Harden said, “it becomes routine.”',\n",
       "  'James Harden reacts during a game. Photo: craig mitchelldyer/Reuters',\n",
       "  'Harden is meticulous about creating and exploiting mismatches whenever and wherever he can find them. He usually picks one player to isolate—either his own defender or a big man who switches onto him—and then picks on him. The poor guy stuck guarding Harden soon finds himself on an island.',\n",
       "  'The other Rockets and their defenders are standing far enough away that if they were standing any farther they would have to pay for their seats. They become useful by disappearing. Because he no longer needs his teammates at that point: All but two of Harden’s stepback threes have been unassisted.',\n",
       "  '“Most defenders want to back up and not allow me to drive,” he said. “Which is fine. But I’m more confident in the stepback than ever.”',\n",
       "  'Let’s use this play as an example. Chris Paul spots the mismatch between Harden and Timberwolves center Karl-Anthony Towns and passes to him. Trevor Ariza recognizes the isolation and literally runs away. There’s not much Towns can do in this situation other than hope this is one of the times Harden’s shot misses. It’s not.',\n",
       "  'What becomes painfully obvious when you re-watch his 157 stepbacks is that it doesn’t seem to matter who’s guarding Harden once he’s isolated. He counts guards, wings and even the game’s defensive stars like Draymond Green and Paul George among the victims of his stepbacks. But there is no one he enjoys roasting more than a big man.',\n",
       "  'He’s shooting 55% on his stepback 3-pointers over the rim-protectors he drags out to the perimeter, according to The Wall Street Journal’s analysis. The incomplete list of bigs who couldn’t stop his stepback 3-pointers this season includes Anthony Davis, Giannis Antetokounmpo, Nikola Jokic, Marc Gasol, Al Horford, LaMarcus Aldridge, Myles Turner and Towns three times.',\n",
       "  'Look at this play:',\n",
       "  'Or this play:',\n",
       "  'And this play:',\n",
       "  'Give him too much space, and he shoots. Get too close to him, and he drives. Do everything right, and he drills a stepback three.',\n",
       "  'That’s what happened in a game against Portland last week. Harden isolated Damian Lillard directly in front of the Trail Blazers’ bench. Portland coach Terry Stotts could see the inevitable coming and begged for help. Al-Farouq Aminu rushed to double-team Harden. It was all useless. Harden took one bunnyhop and made his fifth stepback 3-pointer of the night over both of them. ',\n",
       "  'How do you guard that?',\n",
       "  '“You don’t,” D’Antoni said.',\n",
       "  ' Write to Ben Cohen at ben.cohen@wsj.com',\n",
       "  '\\n              {{summary.headline}}\\n            ',\n",
       "  'THANKS FOR READING',\n",
       "  'The Wall Street Journal',\n",
       "  'Continue Reading Your Article With a WSJ Membership',\n",
       "  'Copyright ©2017 Dow Jones & Company, Inc. All Rights Reserved.'])"
      ]
     },
     "execution_count": 76,
     "metadata": {},
     "output_type": "execute_result"
    }
   ],
   "source": [
    "preprocess(next(data))"
   ]
  },
  {
   "cell_type": "code",
   "execution_count": null,
   "metadata": {},
   "outputs": [],
   "source": []
  }
 ],
 "metadata": {
  "kernelspec": {
   "display_name": "Python 3",
   "language": "python",
   "name": "python3"
  },
  "language_info": {
   "codemirror_mode": {
    "name": "ipython",
    "version": 3
   },
   "file_extension": ".py",
   "mimetype": "text/x-python",
   "name": "python",
   "nbconvert_exporter": "python",
   "pygments_lexer": "ipython3",
   "version": "3.6.5"
  }
 },
 "nbformat": 4,
 "nbformat_minor": 2
}
